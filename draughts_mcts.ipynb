{
 "cells": [
  {
   "cell_type": "code",
   "execution_count": 8,
   "metadata": {},
   "outputs": [],
   "source": [
    "from draughts import Draughts\n",
    "import random\n",
    "\n",
    "class RandomPlayer:\n",
    "\n",
    "    def move(self, board, player_id, valid_moves):\n",
    "        a = random.choice(valid_moves)\n",
    "        return a"
   ]
  },
  {
   "cell_type": "code",
   "execution_count": 9,
   "metadata": {},
   "outputs": [
    {
     "name": "stdout",
     "output_type": "stream",
     "text": [
      "  0 1 2 3 4 5 6 7\n",
      "0   w   w   w   w \n",
      "1 w   w   w   w   \n",
      "2   w   w   w   w \n",
      "3                 \n",
      "4                 \n",
      "5 b   b   b   b   \n",
      "6   b   b   b   b \n",
      "7 b   b   b   b   \n",
      "Player 2 wins! Player 1 has no valid moves.\n"
     ]
    },
    {
     "data": {
      "text/plain": [
       "'loss'"
      ]
     },
     "execution_count": 9,
     "metadata": {},
     "output_type": "execute_result"
    }
   ],
   "source": [
    "game =Draughts(RandomPlayer(), RandomPlayer())\n",
    "\n",
    "game.play()"
   ]
  }
 ],
 "metadata": {
  "kernelspec": {
   "display_name": "venv",
   "language": "python",
   "name": "python3"
  },
  "language_info": {
   "codemirror_mode": {
    "name": "ipython",
    "version": 3
   },
   "file_extension": ".py",
   "mimetype": "text/x-python",
   "name": "python",
   "nbconvert_exporter": "python",
   "pygments_lexer": "ipython3",
   "version": "3.12.3"
  }
 },
 "nbformat": 4,
 "nbformat_minor": 2
}
